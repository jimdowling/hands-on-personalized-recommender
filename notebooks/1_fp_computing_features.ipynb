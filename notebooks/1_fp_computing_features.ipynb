{
 "cells": [
  {
   "cell_type": "code",
   "execution_count": 1,
   "id": "512af732",
   "metadata": {},
   "outputs": [],
   "source": [
    "import time\n",
    "\n",
    "notebook_start_time = time.time()"
   ]
  },
  {
   "cell_type": "markdown",
   "id": "e0f5b5cd",
   "metadata": {},
   "source": [
    "# Set up environment"
   ]
  },
  {
   "cell_type": "code",
   "execution_count": 2,
   "id": "f059347a",
   "metadata": {},
   "outputs": [
    {
     "name": "stdout",
     "output_type": "stream",
     "text": [
      "⛳️ Local environment\n",
      "Adding the following directory to the PYTHONPATH: /home/jdowling/Projects/hands-on-personalized-recommender\n"
     ]
    }
   ],
   "source": [
    "import sys\n",
    "from pathlib import Path\n",
    "\n",
    "\n",
    "def is_google_colab() -> bool:\n",
    "    if \"google.colab\" in str(get_ipython()):\n",
    "        return True\n",
    "    return False\n",
    "\n",
    "\n",
    "def clone_repository() -> None:\n",
    "    !git clone https://github.com/decodingml/hands-on-recommender-system.git\n",
    "    %cd hands-on-recommender-system/\n",
    "\n",
    "\n",
    "def install_dependencies() -> None:\n",
    "    !pip install --upgrade uv\n",
    "    !uv pip install --all-extras --system --requirement pyproject.toml\n",
    "\n",
    "\n",
    "if is_google_colab():\n",
    "    clone_repository()\n",
    "    install_dependencies()\n",
    "\n",
    "    root_dir = str(Path().absolute())\n",
    "    print(\"⛳️ Google Colab environment\")\n",
    "else:\n",
    "    root_dir = str(Path().absolute().parent)\n",
    "    print(\"⛳️ Local environment\")\n",
    "\n",
    "# Add the root directory to the `PYTHONPATH` to use the `recsys` Python module from the notebook.\n",
    "if root_dir not in sys.path:\n",
    "    print(f\"Adding the following directory to the PYTHONPATH: {root_dir}\")\n",
    "    sys.path.append(root_dir)"
   ]
  },
  {
   "cell_type": "markdown",
   "id": "5bd941eb",
   "metadata": {},
   "source": [
    "# 👩🏻‍🔬 Feature pipeline: Computing features"
   ]
  },
  {
   "cell_type": "markdown",
   "id": "96b90025",
   "metadata": {},
   "source": [
    "## Imports"
   ]
  },
  {
   "cell_type": "code",
   "execution_count": 3,
   "id": "e079bf33",
   "metadata": {},
   "outputs": [
    {
     "name": "stderr",
     "output_type": "stream",
     "text": [
      "2024-12-23 09:31:20.444689: I tensorflow/core/util/port.cc:111] oneDNN custom operations are on. You may see slightly different numerical results due to floating-point round-off errors from different computation orders. To turn them off, set the environment variable `TF_ENABLE_ONEDNN_OPTS=0`.\n",
      "2024-12-23 09:31:20.488537: I tensorflow/tsl/cuda/cudart_stub.cc:28] Could not find cuda drivers on your machine, GPU will not be used.\n",
      "2024-12-23 09:31:20.705936: E tensorflow/compiler/xla/stream_executor/cuda/cuda_dnn.cc:9342] Unable to register cuDNN factory: Attempting to register factory for plugin cuDNN when one has already been registered\n",
      "2024-12-23 09:31:20.705989: E tensorflow/compiler/xla/stream_executor/cuda/cuda_fft.cc:609] Unable to register cuFFT factory: Attempting to register factory for plugin cuFFT when one has already been registered\n",
      "2024-12-23 09:31:20.707285: E tensorflow/compiler/xla/stream_executor/cuda/cuda_blas.cc:1518] Unable to register cuBLAS factory: Attempting to register factory for plugin cuBLAS when one has already been registered\n",
      "2024-12-23 09:31:20.817986: I tensorflow/core/platform/cpu_feature_guard.cc:182] This TensorFlow binary is optimized to use available CPU instructions in performance-critical operations.\n",
      "To enable the following instructions: AVX2 AVX_VNNI FMA, in other operations, rebuild TensorFlow with the appropriate compiler flags.\n",
      "2024-12-23 09:31:24.198928: W tensorflow/compiler/tf2tensorrt/utils/py_utils.cc:38] TF-TRT Warning: Could not find TensorRT\n"
     ]
    }
   ],
   "source": [
    "%load_ext autoreload\n",
    "%autoreload 2\n",
    "\n",
    "import warnings\n",
    "from pprint import pprint\n",
    "\n",
    "import polars as pl\n",
    "import torch\n",
    "from loguru import logger\n",
    "from sentence_transformers import SentenceTransformer\n",
    "\n",
    "warnings.filterwarnings(\"ignore\")\n",
    "\n",
    "from recsys import hopsworks_integration\n",
    "from recsys.config import settings\n",
    "from recsys.features.articles import (\n",
    "    compute_features_articles,\n",
    "    generate_embeddings_for_dataframe,\n",
    ")\n",
    "from recsys.features.customers import DatasetSampler, compute_features_customers\n",
    "from recsys.features.interaction import generate_interaction_data\n",
    "from recsys.features.ranking import compute_ranking_dataset\n",
    "from recsys.features.transactions import compute_features_transactions\n",
    "from recsys.hopsworks_integration import feature_store\n",
    "from recsys.raw_data_sources import h_and_m as h_and_m_raw_data"
   ]
  },
  {
   "cell_type": "markdown",
   "id": "0154088e",
   "metadata": {},
   "source": [
    "## Constants"
   ]
  },
  {
   "cell_type": "markdown",
   "id": "e8dd7eff",
   "metadata": {},
   "source": [
    "These are the default settings used across the lessons. You can always override them in the `.env` file that sits at the root of the repository:"
   ]
  },
  {
   "cell_type": "code",
   "execution_count": 4,
   "id": "08e83a27",
   "metadata": {},
   "outputs": [
    {
     "name": "stdout",
     "output_type": "stream",
     "text": [
      "{'CUSTOMER_DATA_SIZE': <CustomerDatasetSize.SMALL: 'SMALL'>,\n",
      " 'FEATURES_EMBEDDING_MODEL_ID': 'all-MiniLM-L6-v2',\n",
      " 'HOPSWORKS_API_KEY': SecretStr('**********'),\n",
      " 'OPENAI_API_KEY': None,\n",
      " 'OPENAI_MODEL_ID': 'gpt-4o-mini',\n",
      " 'RANKING_DATASET_VALIDATON_SPLIT_SIZE': 0.1,\n",
      " 'RANKING_EARLY_STOPPING_ROUNDS': 5,\n",
      " 'RANKING_ITERATIONS': 100,\n",
      " 'RANKING_LEARNING_RATE': 0.2,\n",
      " 'RANKING_SCALE_POS_WEIGHT': 10,\n",
      " 'RECSYS_DIR': PosixPath('/home/jdowling/Projects/hands-on-personalized-recommender/recsys'),\n",
      " 'TWO_TOWER_DATASET_TEST_SPLIT_SIZE': 0.1,\n",
      " 'TWO_TOWER_DATASET_VALIDATON_SPLIT_SIZE': 0.1,\n",
      " 'TWO_TOWER_LEARNING_RATE': 0.01,\n",
      " 'TWO_TOWER_MODEL_BATCH_SIZE': 2048,\n",
      " 'TWO_TOWER_MODEL_EMBEDDING_SIZE': 16,\n",
      " 'TWO_TOWER_NUM_EPOCHS': 10,\n",
      " 'TWO_TOWER_WEIGHT_DECAY': 0.001}\n"
     ]
    }
   ],
   "source": [
    "pprint(dict(settings))"
   ]
  },
  {
   "cell_type": "markdown",
   "id": "e3a0200e",
   "metadata": {},
   "source": [
    "The most important one is the dataset size.\n",
    "\n",
    "Choosing a different dataset size will impact the time it takes to run everything and the quality of the final models. We suggest using a small dataset size when running this the first time.\n",
    "\n",
    "Suported user dataset sizes:"
   ]
  },
  {
   "cell_type": "code",
   "execution_count": 5,
   "id": "8ef8eb9b",
   "metadata": {},
   "outputs": [
    {
     "data": {
      "text/plain": [
       "{<CustomerDatasetSize.LARGE: 'LARGE'>: 50000,\n",
       " <CustomerDatasetSize.MEDIUM: 'MEDIUM'>: 5000,\n",
       " <CustomerDatasetSize.SMALL: 'SMALL'>: 1000}"
      ]
     },
     "execution_count": 5,
     "metadata": {},
     "output_type": "execute_result"
    }
   ],
   "source": [
    "DatasetSampler.get_supported_sizes()"
   ]
  },
  {
   "cell_type": "markdown",
   "id": "d8f493a2",
   "metadata": {},
   "source": [
    "## <span style=\"color:#ff5f27\">🔮 Connect to Hopsworks Feature Store </span>"
   ]
  },
  {
   "cell_type": "code",
   "execution_count": 6,
   "id": "fa2a8cce",
   "metadata": {},
   "outputs": [
    {
     "name": "stderr",
     "output_type": "stream",
     "text": [
      "\u001b[32m2024-12-23 09:31:28.869\u001b[0m | \u001b[1mINFO    \u001b[0m | \u001b[36mrecsys.hopsworks_integration.feature_store\u001b[0m:\u001b[36mget_feature_store\u001b[0m:\u001b[36m13\u001b[0m - \u001b[1mLoging to Hopsworks using HOPSWORKS_API_KEY env var.\u001b[0m\n"
     ]
    },
    {
     "name": "stdout",
     "output_type": "stream",
     "text": [
      "2024-12-23 09:31:28,871 INFO: Initializing external client\n",
      "2024-12-23 09:31:28,872 INFO: Base URL: https://c.app.hopsworks.ai:443\n",
      "2024-12-23 09:31:30,052 INFO: Python Engine initialized.\n",
      "\n",
      "Logged in to project, explore it here https://c.app.hopsworks.ai:443/p/398\n"
     ]
    }
   ],
   "source": [
    "project, fs = hopsworks_integration.get_feature_store()"
   ]
  },
  {
   "cell_type": "markdown",
   "id": "8c97d003",
   "metadata": {},
   "source": [
    "# The H&M dataset\n",
    "\n",
    "To show how a recommender system using the two tower architecture works, we will use the [H&M Personalized Fashion Recommendations](https://www.kaggle.com/competitions/h-and-m-personalized-fashion-recommendations) dataset.\n",
    "\n",
    "It consists of:\n",
    "- articles\n",
    "- customers\n",
    "- transactions"
   ]
  },
  {
   "cell_type": "markdown",
   "id": "8fd35140",
   "metadata": {},
   "source": [
    "# 🗄️ Articles data\n",
    "\n",
    "The **article_id** and **product_code** serve different purposes in the context of H&M's product database:\n",
    "\n",
    "- **Article ID**: This is a unique identifier assigned to each individual article within the database. It is typically used for internal tracking and management purposes. Each distinct item or variant of a product (e.g., different sizes or colors) would have its own unique article_id.\n",
    "\n",
    "- **Product Code**: This is also a unique identifier, but it is associated with a specific product or style rather than individual articles. It represents a broader category or type of product within H&M's inventory. Multiple articles may share the same product code if they belong to the same product line or style.\n",
    "\n",
    "While both are unique identifiers, the article_id is specific to individual items, whereas the product_code represents a broader category or style of product.\n",
    "\n",
    "Here is an example:\n",
    "\n",
    "**Product: Basic T-Shirt**\n",
    "\n",
    "- **Product Code:** TS001\n",
    "\n",
    "- **Article IDs:**\n",
    "    - Article ID: 1001 (Size: Small, Color: White)\n",
    "    - Article ID: 1002 (Size: Medium, Color: White)\n",
    "    - Article ID: 1003 (Size: Large, Color: White)\n",
    "    - Article ID: 1004 (Size: Small, Color: Black)\n",
    "    - Article ID: 1005 (Size: Medium, Color: Black)\n",
    "\n",
    "In this example, \"TS001\" is the product code for the basic t-shirt style. Each variant of this t-shirt (e.g., different sizes and colors) has its own unique article_id.\n",
    "\n"
   ]
  },
  {
   "cell_type": "code",
   "execution_count": null,
   "id": "0c01bb65",
   "metadata": {},
   "outputs": [],
   "source": [
    "articles_df = h_and_m_raw_data.extract_articles_df()\n",
    "articles_df.shape"
   ]
  },
  {
   "cell_type": "markdown",
   "id": "148c5053",
   "metadata": {},
   "source": [
    "The articles DataFrame looks as follows:"
   ]
  },
  {
   "cell_type": "code",
   "execution_count": null,
   "id": "081496ab",
   "metadata": {},
   "outputs": [],
   "source": [
    "articles_df.head(3)"
   ]
  },
  {
   "cell_type": "markdown",
   "id": "d5921fa7",
   "metadata": {},
   "source": [
    "Check for NaNs:\n"
   ]
  },
  {
   "cell_type": "code",
   "execution_count": null,
   "id": "35d77f95",
   "metadata": {},
   "outputs": [],
   "source": [
    "articles_df.null_count()"
   ]
  },
  {
   "cell_type": "markdown",
   "id": "dca1289b",
   "metadata": {},
   "source": [
    "## Articles feature engineering\n"
   ]
  },
  {
   "cell_type": "code",
   "execution_count": null,
   "id": "dbc970ab",
   "metadata": {},
   "outputs": [],
   "source": [
    "articles_df = compute_features_articles(articles_df)\n",
    "articles_df.shape\n"
   ]
  },
  {
   "cell_type": "markdown",
   "id": "77e39cec",
   "metadata": {},
   "source": [
    "The features of the articles look as:"
   ]
  },
  {
   "cell_type": "code",
   "execution_count": null,
   "id": "5c4181c0",
   "metadata": {},
   "outputs": [],
   "source": [
    "articles_df.head(3)"
   ]
  },
  {
   "cell_type": "markdown",
   "id": "a3e11366",
   "metadata": {},
   "source": [
    "### Create embeddings from the articles description"
   ]
  },
  {
   "cell_type": "code",
   "execution_count": null,
   "id": "ade56dd0",
   "metadata": {},
   "outputs": [],
   "source": [
    "for i, desc in enumerate(articles_df[\"article_description\"].head(n=3)):\n",
    "    logger.info(f\"Item {i+1}:\\n{desc}\")"
   ]
  },
  {
   "cell_type": "code",
   "execution_count": null,
   "id": "65cc56ee",
   "metadata": {},
   "outputs": [],
   "source": [
    "device = (\n",
    "    \"cuda\"\n",
    "    if torch.cuda.is_available()\n",
    "    else \"mps\"\n",
    "    if torch.backends.mps.is_available()\n",
    "    else \"cpu\"\n",
    ")\n",
    "logger.info(\n",
    "    f\"Loading '{settings.FEATURES_EMBEDDING_MODEL_ID}' embedding model to {device=}\"\n",
    ")\n",
    "\n",
    "# Load the embedding model from SentenceTransformer's model registry.\n",
    "model = SentenceTransformer(settings.FEATURES_EMBEDDING_MODEL_ID, device=device)"
   ]
  },
  {
   "cell_type": "code",
   "execution_count": null,
   "id": "3607f6b9",
   "metadata": {},
   "outputs": [],
   "source": [
    "articles_df = generate_embeddings_for_dataframe(\n",
    "    articles_df, \"article_description\", model, batch_size=128\n",
    ")  # Reduce batch size if getting OOM errors."
   ]
  },
  {
   "cell_type": "markdown",
   "id": "936e0392",
   "metadata": {},
   "source": [
    "For each article description, we have a numerical vector which we can feed to a model, opposite to a string containing the description of an object."
   ]
  },
  {
   "cell_type": "code",
   "execution_count": null,
   "id": "d75beb72",
   "metadata": {},
   "outputs": [],
   "source": [
    "articles_df[[\"article_description\", \"embeddings\"]].head(3)"
   ]
  },
  {
   "cell_type": "markdown",
   "id": "e60d5f5d",
   "metadata": {},
   "source": [
    "### Looking at image links"
   ]
  },
  {
   "cell_type": "code",
   "execution_count": null,
   "id": "04297ee1",
   "metadata": {},
   "outputs": [],
   "source": [
    "articles_df[\"image_url\"][0]"
   ]
  },
  {
   "cell_type": "code",
   "execution_count": null,
   "id": "e9de393c",
   "metadata": {},
   "outputs": [],
   "source": [
    "from IPython.display import HTML, display\n",
    "\n",
    "image_urls = articles_df[\"image_url\"].tail(12).to_list()\n",
    "grid_html = '<div style=\"display: grid; grid-template-columns: repeat(6, 1fr); gap: 10px; max-width: 900px;\">'\n",
    "\n",
    "for url in image_urls:\n",
    "    grid_html += f'<img src=\"{url}\" style=\"width: 100%; height: auto;\">'\n",
    "\n",
    "grid_html += \"</div>\"\n",
    "\n",
    "display(HTML(grid_html))\n"
   ]
  },
  {
   "cell_type": "markdown",
   "id": "a606d5c0",
   "metadata": {},
   "source": [
    "## Customers Data"
   ]
  },
  {
   "cell_type": "code",
   "execution_count": null,
   "id": "b2c7c317",
   "metadata": {},
   "outputs": [],
   "source": [
    "customers_df = h_and_m_raw_data.extract_customers_df()\n",
    "customers_df.shape\n"
   ]
  },
  {
   "cell_type": "markdown",
   "id": "dacdaced",
   "metadata": {},
   "source": [
    "The customers DataFrame looks as follows:"
   ]
  },
  {
   "cell_type": "code",
   "execution_count": null,
   "id": "59183d65",
   "metadata": {},
   "outputs": [],
   "source": [
    "customers_df.head(3)"
   ]
  },
  {
   "cell_type": "markdown",
   "id": "65c5782b",
   "metadata": {},
   "source": [
    "Check for NaNs:"
   ]
  },
  {
   "cell_type": "code",
   "execution_count": null,
   "id": "818f2c36",
   "metadata": {},
   "outputs": [],
   "source": [
    "\n",
    "customers_df.null_count()"
   ]
  },
  {
   "cell_type": "markdown",
   "id": "a7c3a524",
   "metadata": {},
   "source": [
    "## Customers feature engineering\n"
   ]
  },
  {
   "cell_type": "code",
   "execution_count": null,
   "id": "d623d3ff",
   "metadata": {},
   "outputs": [],
   "source": [
    "customers_df = compute_features_customers(customers_df, drop_null_age=True)\n",
    "customers_df.shape"
   ]
  },
  {
   "cell_type": "markdown",
   "id": "2f053755",
   "metadata": {},
   "source": [
    "The features of the customers DataFrame looks as follows:"
   ]
  },
  {
   "cell_type": "code",
   "execution_count": null,
   "id": "c058e10e",
   "metadata": {},
   "outputs": [],
   "source": [
    "customers_df.head(3)"
   ]
  },
  {
   "cell_type": "markdown",
   "id": "e8b498ff",
   "metadata": {},
   "source": [
    "\n",
    "# Transactions Data"
   ]
  },
  {
   "cell_type": "code",
   "execution_count": null,
   "id": "5f8887c1",
   "metadata": {},
   "outputs": [],
   "source": [
    "transactions_df = h_and_m_raw_data.extract_transactions_df()\n",
    "transactions_df.shape"
   ]
  },
  {
   "cell_type": "markdown",
   "id": "dd07a9ab",
   "metadata": {},
   "source": [
    "The transaction DataFrame looks as follows:"
   ]
  },
  {
   "cell_type": "code",
   "execution_count": null,
   "id": "e4cc028c",
   "metadata": {},
   "outputs": [],
   "source": [
    "transactions_df.head(3)"
   ]
  },
  {
   "cell_type": "markdown",
   "id": "a8f761e2",
   "metadata": {},
   "source": [
    "## Transactions feature engineering"
   ]
  },
  {
   "cell_type": "code",
   "execution_count": null,
   "id": "ca61456a",
   "metadata": {},
   "outputs": [],
   "source": [
    "transactions_df = compute_features_transactions(transactions_df)\n",
    "transactions_df.shape"
   ]
  },
  {
   "cell_type": "markdown",
   "id": "16e39bf1",
   "metadata": {},
   "source": [
    "The time of the year a purchase was made should be a strong predictor, as seasonality plays a big factor in fashion purchases. Here, you will use the month of the purchase as a feature. Since this is a cyclical feature (January is as close to December as it is to February), you'll map each month to the unit circle using sine and cosine.\n",
    "\n",
    "Thus, the features of the transactions DataFrame look as follows:"
   ]
  },
  {
   "cell_type": "code",
   "execution_count": null,
   "id": "1ffe2d04",
   "metadata": {},
   "outputs": [],
   "source": [
    "transactions_df.head(3)"
   ]
  },
  {
   "cell_type": "markdown",
   "id": "f1501b8d",
   "metadata": {},
   "source": [
    "We don't want to work with ~30 million transactions in these series, as everything will take too much time to run. Thus, we create a subset of the original dataset by randomly sampling from the customers' datasets and taking only their transactions."
   ]
  },
  {
   "cell_type": "code",
   "execution_count": null,
   "id": "c7a78f4d",
   "metadata": {},
   "outputs": [],
   "source": [
    "sampler = DatasetSampler(size=settings.CUSTOMER_DATA_SIZE)\n",
    "dataset_subset = sampler.sample(\n",
    "    customers_df=customers_df, transations_df=transactions_df\n",
    ")\n",
    "customers_df = dataset_subset[\"customers\"]\n",
    "transactions_df = dataset_subset[\"transactions\"]"
   ]
  },
  {
   "cell_type": "code",
   "execution_count": null,
   "id": "fc248f26",
   "metadata": {},
   "outputs": [],
   "source": [
    "transactions_df.shape"
   ]
  },
  {
   "cell_type": "markdown",
   "id": "6a7e6acc",
   "metadata": {},
   "source": [
    "Some of the remaining customers:"
   ]
  },
  {
   "cell_type": "code",
   "execution_count": null,
   "id": "f99e5367",
   "metadata": {},
   "outputs": [],
   "source": [
    "for customer_id in transactions_df[\"customer_id\"].unique().head(10):\n",
    "    logger.info(f\"Logging customer ID: {customer_id}\")"
   ]
  },
  {
   "cell_type": "markdown",
   "id": "c9d030bd",
   "metadata": {},
   "source": [
    "# 🤳🏻 Interaction data\n",
    "\n",
    "To train our models, we need more than just the transactions DataFrame. We need positive samples that signal whether a customer clicked or bought an item, but we also need negative samples that signal no interactions between a customer and an item."
   ]
  },
  {
   "cell_type": "code",
   "execution_count": null,
   "id": "48b980fd",
   "metadata": {},
   "outputs": [],
   "source": [
    "interaction_df = generate_interaction_data(transactions_df)\n",
    "interaction_df.shape"
   ]
  },
  {
   "cell_type": "markdown",
   "id": "2c3ae438",
   "metadata": {},
   "source": [
    "The interaction features look as follows:"
   ]
  },
  {
   "cell_type": "code",
   "execution_count": null,
   "id": "4b0e2d35",
   "metadata": {},
   "outputs": [],
   "source": [
    "interaction_df.head()"
   ]
  },
  {
   "cell_type": "markdown",
   "id": "facb5c56",
   "metadata": {},
   "source": [
    "Let's take a look at the interaction score distribution:"
   ]
  },
  {
   "cell_type": "code",
   "execution_count": null,
   "id": "7d8aa4cc",
   "metadata": {},
   "outputs": [],
   "source": [
    "interaction_df.group_by(\"interaction_score\").agg(\n",
    "    pl.count(\"interaction_score\").alias(\"total_interactions\")\n",
    ")"
   ]
  },
  {
   "cell_type": "markdown",
   "id": "430ed30f",
   "metadata": {},
   "source": [
    "Here is what each score means:\n",
    "- `0` : No interaction between a customer and an item\n",
    "- `1` : A customer clicked an item\n",
    "- `2` : A customer bought an item"
   ]
  },
  {
   "cell_type": "markdown",
   "id": "c5192013",
   "metadata": {},
   "source": [
    "# <span style=\"color:#ff5f27\">🪄 Create Hopsworks Feature Groups </span>\n",
    "\n",
    "A [feature group](https://docs.hopsworks.ai/feature-store-api/latest/generated/feature_group/) can be seen as a collection of conceptually related features.\n",
    "\n",
    "To create a feature group you need to give it a name and specify a primary key. It is also best practice to provide a description of the contents of the feature group."
   ]
  },
  {
   "cell_type": "markdown",
   "id": "8fe61f1f",
   "metadata": {},
   "source": [
    "#### Customers\n",
    "\n",
    "We set `online_enabled=True` to enable low-latency access to the data from the inference pipeline for real-time predictions. \n",
    "\n",
    "A full list of arguments can be found in the [documentation](https://docs.hopsworks.ai/feature-store-api/latest/generated/api/feature_store_api/#create_feature_group)."
   ]
  },
  {
   "cell_type": "code",
   "execution_count": null,
   "id": "bf1d4650",
   "metadata": {},
   "outputs": [],
   "source": [
    "logger.info(\"Uploading 'customers' Feature Group to Hopsworks.\")\n",
    "customers_fg = feature_store.create_customers_feature_group(\n",
    "    fs, df=customers_df, online_enabled=True\n",
    ")\n",
    "\n",
    "logger.info(\"✅ Uploaded 'customers' Feature Group to Hopsworks!\")"
   ]
  },
  {
   "cell_type": "markdown",
   "id": "07076b20",
   "metadata": {},
   "source": [
    "#### Articles"
   ]
  },
  {
   "cell_type": "markdown",
   "id": "8b22919d",
   "metadata": {},
   "source": [
    "Let's do the same thing for the rest of the data frames."
   ]
  },
  {
   "cell_type": "code",
   "execution_count": null,
   "id": "1e2cd326",
   "metadata": {},
   "outputs": [],
   "source": [
    "logger.info(\"Uploading 'articles' Feature Group to Hopsworks.\")\n",
    "articles_fg = feature_store.create_articles_feature_group(\n",
    "    fs,\n",
    "    df=articles_df,\n",
    "    articles_description_embedding_dim=model.get_sentence_embedding_dimension(),\n",
    "    online_enabled=True,\n",
    ")\n",
    "logger.info(\"✅ Uploaded 'articles' Feature Group to Hopsworks!\")\n"
   ]
  },
  {
   "cell_type": "markdown",
   "id": "e1351e32",
   "metadata": {},
   "source": [
    "####  Transactions"
   ]
  },
  {
   "cell_type": "code",
   "execution_count": null,
   "id": "27d544ee",
   "metadata": {},
   "outputs": [],
   "source": [
    "logger.info(\"Uploading 'transactions' Feature Group to Hopsworks.\")\n",
    "trans_fg = feature_store.create_transactions_feature_group(\n",
    "    fs=fs, df=transactions_df, online_enabled=True\n",
    ")\n",
    "logger.info(\"✅ Uploaded 'transactions' Feature Group to Hopsworks!\")"
   ]
  },
  {
   "cell_type": "markdown",
   "id": "70c0a17d",
   "metadata": {},
   "source": [
    "#### Interactions"
   ]
  },
  {
   "cell_type": "code",
   "execution_count": null,
   "id": "f76574da",
   "metadata": {},
   "outputs": [],
   "source": [
    "logger.info(\"Uploading 'interactions' Feature Group to Hopsworks.\")\n",
    "interactions_fg = feature_store.create_interactions_feature_group(\n",
    "    fs=fs, df=interaction_df, online_enabled=True\n",
    ")\n",
    "logger.info(\"✅ Uploaded 'interactions' Feature Group to Hopsworks!!\")"
   ]
  },
  {
   "cell_type": "code",
   "execution_count": 8,
   "id": "9add25c5-49c1-4bee-91d9-9350d20d3f4e",
   "metadata": {},
   "outputs": [],
   "source": [
    "trans_fg = fs.get_feature_group(\"transactions\", version=1)\n",
    "articles_fg = fs.get_feature_group(\"articles\", version=1)\n",
    "customers_fg = fs.get_feature_group(\"customers\", version=1)\n",
    "interactions_fg = fs.get_feature_group(\"interactions\", version=1)"
   ]
  },
  {
   "cell_type": "markdown",
   "id": "8df7f835",
   "metadata": {},
   "source": [
    "# Compute ranking dataset\n",
    "\n",
    "The last step is to compute the ranking dataset used to train the scoring/ranking model from the feature groups we've just created:\n"
   ]
  },
  {
   "cell_type": "code",
   "execution_count": 10,
   "id": "05d6489d",
   "metadata": {},
   "outputs": [
    {
     "name": "stdout",
     "output_type": "stream",
     "text": [
      "Finished: Reading data from Hopsworks, using Hopsworks Feature Query Service (1.82s) \n",
      "Finished: Reading data from Hopsworks, using Hopsworks Feature Query Service (12.12s) \n",
      "Finished: Reading data from Hopsworks, using Hopsworks Feature Query Service (0.76s) \n",
      "Finished: Reading data from Hopsworks, using Hopsworks Feature Query Service (136.95s) \n"
     ]
    },
    {
     "data": {
      "text/plain": [
       "(224136, 15)"
      ]
     },
     "execution_count": 10,
     "metadata": {},
     "output_type": "execute_result"
    }
   ],
   "source": [
    "ranking_df = compute_ranking_dataset(\n",
    "    trans_fg,\n",
    "    articles_fg,\n",
    "    customers_fg,\n",
    ")\n",
    "ranking_df.shape"
   ]
  },
  {
   "cell_type": "markdown",
   "id": "c0dd7867",
   "metadata": {},
   "source": [
    "The ranking dataset looks as follows:"
   ]
  },
  {
   "cell_type": "code",
   "execution_count": 11,
   "id": "0f69c4c7",
   "metadata": {},
   "outputs": [
    {
     "data": {
      "text/html": [
       "<div><style>\n",
       ".dataframe > thead > tr,\n",
       ".dataframe > tbody > tr {\n",
       "  text-align: right;\n",
       "  white-space: pre-wrap;\n",
       "}\n",
       "</style>\n",
       "<small>shape: (3, 15)</small><table border=\"1\" class=\"dataframe\"><thead><tr><th>customer_id</th><th>age</th><th>article_id</th><th>label</th><th>product_type_name</th><th>product_group_name</th><th>graphical_appearance_name</th><th>colour_group_name</th><th>perceived_colour_value_name</th><th>perceived_colour_master_name</th><th>department_name</th><th>index_name</th><th>index_group_name</th><th>section_name</th><th>garment_group_name</th></tr><tr><td>str</td><td>f64</td><td>str</td><td>i32</td><td>str</td><td>str</td><td>str</td><td>str</td><td>str</td><td>str</td><td>str</td><td>str</td><td>str</td><td>str</td><td>str</td></tr></thead><tbody><tr><td>&quot;34d30dcece38ac652e9fd05285d94d…</td><td>64.0</td><td>&quot;839496003&quot;</td><td>1</td><td>&quot;Top&quot;</td><td>&quot;Garment Upper body&quot;</td><td>&quot;All over pattern&quot;</td><td>&quot;Beige&quot;</td><td>&quot;Dark&quot;</td><td>&quot;Beige&quot;</td><td>&quot;Jersey fancy&quot;</td><td>&quot;Ladieswear&quot;</td><td>&quot;Ladieswear&quot;</td><td>&quot;Womens Everyday Collection&quot;</td><td>&quot;Jersey Fancy&quot;</td></tr><tr><td>&quot;91a30617b9a5b5ff3927779204a176…</td><td>49.0</td><td>&quot;777093001&quot;</td><td>1</td><td>&quot;Jumpsuit/Playsuit&quot;</td><td>&quot;Garment Full body&quot;</td><td>&quot;All over pattern&quot;</td><td>&quot;Dark Blue&quot;</td><td>&quot;Dark&quot;</td><td>&quot;Blue&quot;</td><td>&quot;Young Girl Dresses&quot;</td><td>&quot;Children Sizes 134-170&quot;</td><td>&quot;Baby/Children&quot;</td><td>&quot;Young Girl&quot;</td><td>&quot;Dresses/Skirts girls&quot;</td></tr><tr><td>&quot;23eeb5e9595c9409031f21a9c01fa3…</td><td>25.0</td><td>&quot;875719003&quot;</td><td>1</td><td>&quot;Trousers&quot;</td><td>&quot;Garment Lower body&quot;</td><td>&quot;Solid&quot;</td><td>&quot;Beige&quot;</td><td>&quot;Dusty Light&quot;</td><td>&quot;Mole&quot;</td><td>&quot;Trousers DS&quot;</td><td>&quot;Divided&quot;</td><td>&quot;Divided&quot;</td><td>&quot;Divided Selected&quot;</td><td>&quot;Trousers&quot;</td></tr></tbody></table></div>"
      ],
      "text/plain": [
       "shape: (3, 15)\n",
       "┌─────────────┬──────┬────────────┬───────┬───┬─────────────┬────────────┬────────────┬────────────┐\n",
       "│ customer_id ┆ age  ┆ article_id ┆ label ┆ … ┆ index_name  ┆ index_grou ┆ section_na ┆ garment_gr │\n",
       "│ ---         ┆ ---  ┆ ---        ┆ ---   ┆   ┆ ---         ┆ p_name     ┆ me         ┆ oup_name   │\n",
       "│ str         ┆ f64  ┆ str        ┆ i32   ┆   ┆ str         ┆ ---        ┆ ---        ┆ ---        │\n",
       "│             ┆      ┆            ┆       ┆   ┆             ┆ str        ┆ str        ┆ str        │\n",
       "╞═════════════╪══════╪════════════╪═══════╪═══╪═════════════╪════════════╪════════════╪════════════╡\n",
       "│ 34d30dcece3 ┆ 64.0 ┆ 839496003  ┆ 1     ┆ … ┆ Ladieswear  ┆ Ladieswear ┆ Womens     ┆ Jersey     │\n",
       "│ 8ac652e9fd0 ┆      ┆            ┆       ┆   ┆             ┆            ┆ Everyday   ┆ Fancy      │\n",
       "│ 5285d94d…   ┆      ┆            ┆       ┆   ┆             ┆            ┆ Collection ┆            │\n",
       "│ 91a30617b9a ┆ 49.0 ┆ 777093001  ┆ 1     ┆ … ┆ Children    ┆ Baby/Child ┆ Young Girl ┆ Dresses/Sk │\n",
       "│ 5b5ff392777 ┆      ┆            ┆       ┆   ┆ Sizes       ┆ ren        ┆            ┆ irts girls │\n",
       "│ 9204a176…   ┆      ┆            ┆       ┆   ┆ 134-170     ┆            ┆            ┆            │\n",
       "│ 23eeb5e9595 ┆ 25.0 ┆ 875719003  ┆ 1     ┆ … ┆ Divided     ┆ Divided    ┆ Divided    ┆ Trousers   │\n",
       "│ c9409031f21 ┆      ┆            ┆       ┆   ┆             ┆            ┆ Selected   ┆            │\n",
       "│ a9c01fa3…   ┆      ┆            ┆       ┆   ┆             ┆            ┆            ┆            │\n",
       "└─────────────┴──────┴────────────┴───────┴───┴─────────────┴────────────┴────────────┴────────────┘"
      ]
     },
     "execution_count": 11,
     "metadata": {},
     "output_type": "execute_result"
    }
   ],
   "source": [
    "ranking_df.head(3)"
   ]
  },
  {
   "cell_type": "code",
   "execution_count": 12,
   "id": "ec9e5bf0",
   "metadata": {},
   "outputs": [
    {
     "data": {
      "text/html": [
       "<div><style>\n",
       ".dataframe > thead > tr,\n",
       ".dataframe > tbody > tr {\n",
       "  text-align: right;\n",
       "  white-space: pre-wrap;\n",
       "}\n",
       "</style>\n",
       "<small>shape: (2, 2)</small><table border=\"1\" class=\"dataframe\"><thead><tr><th>label</th><th>count</th></tr><tr><td>i32</td><td>u32</td></tr></thead><tbody><tr><td>0</td><td>203760</td></tr><tr><td>1</td><td>20376</td></tr></tbody></table></div>"
      ],
      "text/plain": [
       "shape: (2, 2)\n",
       "┌───────┬────────┐\n",
       "│ label ┆ count  │\n",
       "│ ---   ┆ ---    │\n",
       "│ i32   ┆ u32    │\n",
       "╞═══════╪════════╡\n",
       "│ 0     ┆ 203760 │\n",
       "│ 1     ┆ 20376  │\n",
       "└───────┴────────┘"
      ]
     },
     "execution_count": 12,
     "metadata": {},
     "output_type": "execute_result"
    }
   ],
   "source": [
    "ranking_df.get_column(\"label\").value_counts()"
   ]
  },
  {
   "cell_type": "markdown",
   "id": "d73153d1",
   "metadata": {},
   "source": [
    "As the ranking dataset was computed based on articles, customers, and transactions Hopsworks Feature Groups, we can reflect this lineage in the ranking Feature Group."
   ]
  },
  {
   "cell_type": "code",
   "execution_count": 13,
   "id": "3b514efe",
   "metadata": {},
   "outputs": [
    {
     "name": "stderr",
     "output_type": "stream",
     "text": [
      "\u001b[32m2024-12-23 09:43:02.321\u001b[0m | \u001b[1mINFO    \u001b[0m | \u001b[36m__main__\u001b[0m:\u001b[36m<module>\u001b[0m:\u001b[36m1\u001b[0m - \u001b[1mUploading 'ranking' Feature Group to Hopsworks.\u001b[0m\n"
     ]
    },
    {
     "name": "stdout",
     "output_type": "stream",
     "text": [
      "Feature Group created successfully, explore it at \n",
      "https://c.app.hopsworks.ai:443/p/398/fs/335/fg/1393139\n"
     ]
    },
    {
     "name": "stderr",
     "output_type": "stream",
     "text": [
      "Uploading Dataframe: 100.00% |███████████████████████████████████████████████████████████████████████████████████| Rows 224136/224136 | Elapsed Time: 00:37 | Remaining Time: 00:00\n"
     ]
    },
    {
     "name": "stdout",
     "output_type": "stream",
     "text": [
      "Launching job: ranking_1_offline_fg_materialization\n",
      "Job started successfully, you can follow the progress at \n",
      "https://c.app.hopsworks.ai:443/p/398/jobs/named/ranking_1_offline_fg_materialization/executions\n",
      "2024-12-23 09:43:54,694 INFO: Waiting for execution to finish. Current state: SUBMITTED. Final status: UNDEFINED\n",
      "2024-12-23 09:43:57,838 INFO: Waiting for execution to finish. Current state: RUNNING. Final status: UNDEFINED\n",
      "2024-12-23 09:46:29,752 INFO: Waiting for execution to finish. Current state: AGGREGATING_LOGS. Final status: SUCCEEDED\n",
      "2024-12-23 09:46:29,888 INFO: Waiting for log aggregation to finish.\n",
      "2024-12-23 09:47:27,708 INFO: Execution finished successfully.\n"
     ]
    },
    {
     "name": "stderr",
     "output_type": "stream",
     "text": [
      "\u001b[32m2024-12-23 09:47:37.100\u001b[0m | \u001b[1mINFO    \u001b[0m | \u001b[36m__main__\u001b[0m:\u001b[36m<module>\u001b[0m:\u001b[36m8\u001b[0m - \u001b[1m✅ Uploaded 'ranking' Feature Group to Hopsworks!!\u001b[0m\n"
     ]
    }
   ],
   "source": [
    "logger.info(\"Uploading 'ranking' Feature Group to Hopsworks.\")\n",
    "rank_fg = feature_store.create_ranking_feature_group(\n",
    "    fs,\n",
    "    df=ranking_df,\n",
    "    parents=[articles_fg, customers_fg, trans_fg],\n",
    "    online_enabled=False\n",
    ")\n",
    "logger.info(\"✅ Uploaded 'ranking' Feature Group to Hopsworks!!\")"
   ]
  },
  {
   "cell_type": "markdown",
   "id": "b25192e8",
   "metadata": {},
   "source": [
    "## <span style=\"color:#ff5f27\"> Inspecting the Feature Groups in Hopsworks UI </span>\n",
    "\n",
    "View results in [Hopsworks Serverless](https://rebrand.ly/serverless-github): **Feature Store → Feature Groups**"
   ]
  },
  {
   "cell_type": "markdown",
   "id": "9eeaefd5",
   "metadata": {},
   "source": [
    "---"
   ]
  },
  {
   "cell_type": "code",
   "execution_count": 15,
   "id": "c045b25d",
   "metadata": {},
   "outputs": [
    {
     "name": "stderr",
     "output_type": "stream",
     "text": [
      "\u001b[32m2024-12-23 09:58:22.683\u001b[0m | \u001b[1mINFO    \u001b[0m | \u001b[36m__main__\u001b[0m:\u001b[36m<module>\u001b[0m:\u001b[36m4\u001b[0m - \u001b[1m⌛️ Notebook Execution time: 1642.39 seconds ~ 27.37 minutes\u001b[0m\n"
     ]
    }
   ],
   "source": [
    "notebook_end_time = time.time()\n",
    "notebook_execution_time = notebook_end_time - notebook_start_time\n",
    "\n",
    "logger.info(\n",
    "    f\"⌛️ Notebook Execution time: {notebook_execution_time:.2f} seconds ~ {notebook_execution_time / 60:.2f} minutes\"\n",
    ")"
   ]
  },
  {
   "cell_type": "markdown",
   "id": "8664cc84",
   "metadata": {},
   "source": [
    "# <span style=\"color:#ff5f27\">→ Next Steps </span>\n",
    "\n",
    "In the next notebook you'll train the retrieval model and register it to the Hopsworks model registry."
   ]
  }
 ],
 "metadata": {
  "kernelspec": {
   "display_name": "Python 3 (ipykernel)",
   "language": "python",
   "name": "python3"
  },
  "language_info": {
   "codemirror_mode": {
    "name": "ipython",
    "version": 3
   },
   "file_extension": ".py",
   "mimetype": "text/x-python",
   "name": "python",
   "nbconvert_exporter": "python",
   "pygments_lexer": "ipython3",
   "version": "3.11.11"
  }
 },
 "nbformat": 4,
 "nbformat_minor": 5
}
